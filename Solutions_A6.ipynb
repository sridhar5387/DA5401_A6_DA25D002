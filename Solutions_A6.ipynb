{
  "cells": [
    {
      "cell_type": "code",
      "execution_count": 303,
      "metadata": {
        "id": "2BBy-cShb6i7"
      },
      "outputs": [],
      "source": [
        "import numpy as np\n",
        "from numpy.random import default_rng\n",
        "import pandas as pd\n",
        "import matplotlib.pyplot as plt\n",
        "import sklearn\n",
        "from sklearn.preprocessing import StandardScaler\n",
        "from sklearn.model_selection import train_test_split\n",
        "from sklearn.linear_model import LinearRegression, LogisticRegression\n",
        "from sklearn.neighbors import KNeighborsRegressor\n",
        "from sklearn.metrics import f1_score, classification_report\n",
        "from sklearn.tree import DecisionTreeRegressor"
      ]
    },
    {
      "cell_type": "markdown",
      "metadata": {},
      "source": [
        "# The Dataset\n",
        "The UCI Credit Card Default Clients Dataset contains information on a number of defaulters and non-defaulters. The features include age, sex, maritial status, education, bill statements and payment status over the past few months. In this work, we analyze the efficiency of various imputation methods. Since the dataset is clean and does not contain missing values, we artificially induce MAR (Missing At Random) values. "
      ]
    },
    {
      "cell_type": "code",
      "execution_count": 304,
      "metadata": {
        "colab": {
          "base_uri": "https://localhost:8080/",
          "height": 255
        },
        "id": "zOBQfJojc3ry",
        "outputId": "f11d29d9-7259-47fe-cad5-e46bddbfa206"
      },
      "outputs": [
        {
          "data": {
            "text/html": [
              "<div>\n",
              "<style scoped>\n",
              "    .dataframe tbody tr th:only-of-type {\n",
              "        vertical-align: middle;\n",
              "    }\n",
              "\n",
              "    .dataframe tbody tr th {\n",
              "        vertical-align: top;\n",
              "    }\n",
              "\n",
              "    .dataframe thead th {\n",
              "        text-align: right;\n",
              "    }\n",
              "</style>\n",
              "<table border=\"1\" class=\"dataframe\">\n",
              "  <thead>\n",
              "    <tr style=\"text-align: right;\">\n",
              "      <th></th>\n",
              "      <th>ID</th>\n",
              "      <th>LIMIT_BAL</th>\n",
              "      <th>SEX</th>\n",
              "      <th>EDUCATION</th>\n",
              "      <th>MARRIAGE</th>\n",
              "      <th>AGE</th>\n",
              "      <th>PAY_0</th>\n",
              "      <th>PAY_2</th>\n",
              "      <th>PAY_3</th>\n",
              "      <th>PAY_4</th>\n",
              "      <th>...</th>\n",
              "      <th>BILL_AMT4</th>\n",
              "      <th>BILL_AMT5</th>\n",
              "      <th>BILL_AMT6</th>\n",
              "      <th>PAY_AMT1</th>\n",
              "      <th>PAY_AMT2</th>\n",
              "      <th>PAY_AMT3</th>\n",
              "      <th>PAY_AMT4</th>\n",
              "      <th>PAY_AMT5</th>\n",
              "      <th>PAY_AMT6</th>\n",
              "      <th>default.payment.next.month</th>\n",
              "    </tr>\n",
              "  </thead>\n",
              "  <tbody>\n",
              "    <tr>\n",
              "      <th>0</th>\n",
              "      <td>1</td>\n",
              "      <td>20000.0</td>\n",
              "      <td>2</td>\n",
              "      <td>2</td>\n",
              "      <td>1</td>\n",
              "      <td>24</td>\n",
              "      <td>2</td>\n",
              "      <td>2</td>\n",
              "      <td>-1</td>\n",
              "      <td>-1</td>\n",
              "      <td>...</td>\n",
              "      <td>0.0</td>\n",
              "      <td>0.0</td>\n",
              "      <td>0.0</td>\n",
              "      <td>0.0</td>\n",
              "      <td>689.0</td>\n",
              "      <td>0.0</td>\n",
              "      <td>0.0</td>\n",
              "      <td>0.0</td>\n",
              "      <td>0.0</td>\n",
              "      <td>1</td>\n",
              "    </tr>\n",
              "    <tr>\n",
              "      <th>1</th>\n",
              "      <td>2</td>\n",
              "      <td>120000.0</td>\n",
              "      <td>2</td>\n",
              "      <td>2</td>\n",
              "      <td>2</td>\n",
              "      <td>26</td>\n",
              "      <td>-1</td>\n",
              "      <td>2</td>\n",
              "      <td>0</td>\n",
              "      <td>0</td>\n",
              "      <td>...</td>\n",
              "      <td>3272.0</td>\n",
              "      <td>3455.0</td>\n",
              "      <td>3261.0</td>\n",
              "      <td>0.0</td>\n",
              "      <td>1000.0</td>\n",
              "      <td>1000.0</td>\n",
              "      <td>1000.0</td>\n",
              "      <td>0.0</td>\n",
              "      <td>2000.0</td>\n",
              "      <td>1</td>\n",
              "    </tr>\n",
              "    <tr>\n",
              "      <th>2</th>\n",
              "      <td>3</td>\n",
              "      <td>90000.0</td>\n",
              "      <td>2</td>\n",
              "      <td>2</td>\n",
              "      <td>2</td>\n",
              "      <td>34</td>\n",
              "      <td>0</td>\n",
              "      <td>0</td>\n",
              "      <td>0</td>\n",
              "      <td>0</td>\n",
              "      <td>...</td>\n",
              "      <td>14331.0</td>\n",
              "      <td>14948.0</td>\n",
              "      <td>15549.0</td>\n",
              "      <td>1518.0</td>\n",
              "      <td>1500.0</td>\n",
              "      <td>1000.0</td>\n",
              "      <td>1000.0</td>\n",
              "      <td>1000.0</td>\n",
              "      <td>5000.0</td>\n",
              "      <td>0</td>\n",
              "    </tr>\n",
              "    <tr>\n",
              "      <th>3</th>\n",
              "      <td>4</td>\n",
              "      <td>50000.0</td>\n",
              "      <td>2</td>\n",
              "      <td>2</td>\n",
              "      <td>1</td>\n",
              "      <td>37</td>\n",
              "      <td>0</td>\n",
              "      <td>0</td>\n",
              "      <td>0</td>\n",
              "      <td>0</td>\n",
              "      <td>...</td>\n",
              "      <td>28314.0</td>\n",
              "      <td>28959.0</td>\n",
              "      <td>29547.0</td>\n",
              "      <td>2000.0</td>\n",
              "      <td>2019.0</td>\n",
              "      <td>1200.0</td>\n",
              "      <td>1100.0</td>\n",
              "      <td>1069.0</td>\n",
              "      <td>1000.0</td>\n",
              "      <td>0</td>\n",
              "    </tr>\n",
              "    <tr>\n",
              "      <th>4</th>\n",
              "      <td>5</td>\n",
              "      <td>50000.0</td>\n",
              "      <td>1</td>\n",
              "      <td>2</td>\n",
              "      <td>1</td>\n",
              "      <td>57</td>\n",
              "      <td>-1</td>\n",
              "      <td>0</td>\n",
              "      <td>-1</td>\n",
              "      <td>0</td>\n",
              "      <td>...</td>\n",
              "      <td>20940.0</td>\n",
              "      <td>19146.0</td>\n",
              "      <td>19131.0</td>\n",
              "      <td>2000.0</td>\n",
              "      <td>36681.0</td>\n",
              "      <td>10000.0</td>\n",
              "      <td>9000.0</td>\n",
              "      <td>689.0</td>\n",
              "      <td>679.0</td>\n",
              "      <td>0</td>\n",
              "    </tr>\n",
              "  </tbody>\n",
              "</table>\n",
              "<p>5 rows × 25 columns</p>\n",
              "</div>"
            ],
            "text/plain": [
              "   ID  LIMIT_BAL  SEX  EDUCATION  MARRIAGE  AGE  PAY_0  PAY_2  PAY_3  PAY_4  \\\n",
              "0   1    20000.0    2          2         1   24      2      2     -1     -1   \n",
              "1   2   120000.0    2          2         2   26     -1      2      0      0   \n",
              "2   3    90000.0    2          2         2   34      0      0      0      0   \n",
              "3   4    50000.0    2          2         1   37      0      0      0      0   \n",
              "4   5    50000.0    1          2         1   57     -1      0     -1      0   \n",
              "\n",
              "   ...  BILL_AMT4  BILL_AMT5  BILL_AMT6  PAY_AMT1  PAY_AMT2  PAY_AMT3  \\\n",
              "0  ...        0.0        0.0        0.0       0.0     689.0       0.0   \n",
              "1  ...     3272.0     3455.0     3261.0       0.0    1000.0    1000.0   \n",
              "2  ...    14331.0    14948.0    15549.0    1518.0    1500.0    1000.0   \n",
              "3  ...    28314.0    28959.0    29547.0    2000.0    2019.0    1200.0   \n",
              "4  ...    20940.0    19146.0    19131.0    2000.0   36681.0   10000.0   \n",
              "\n",
              "   PAY_AMT4  PAY_AMT5  PAY_AMT6  default.payment.next.month  \n",
              "0       0.0       0.0       0.0                           1  \n",
              "1    1000.0       0.0    2000.0                           1  \n",
              "2    1000.0    1000.0    5000.0                           0  \n",
              "3    1100.0    1069.0    1000.0                           0  \n",
              "4    9000.0     689.0     679.0                           0  \n",
              "\n",
              "[5 rows x 25 columns]"
            ]
          },
          "execution_count": 304,
          "metadata": {},
          "output_type": "execute_result"
        }
      ],
      "source": [
        "dataset = pd.read_csv(\"UCI_Credit_Card.csv\")\n",
        "dataset.head()"
      ]
    },
    {
      "cell_type": "code",
      "execution_count": 305,
      "metadata": {},
      "outputs": [
        {
          "data": {
            "text/plain": [
              "30000"
            ]
          },
          "execution_count": 305,
          "metadata": {},
          "output_type": "execute_result"
        }
      ],
      "source": [
        "len(dataset)"
      ]
    },
    {
      "cell_type": "markdown",
      "metadata": {},
      "source": [
        "## One-Hot Encoding\n",
        "We need to perform one-hot encoding on some of the features (sex, education and marriage) as they are discrete and are not quantitative. Payment status, although discrete, does not require one-hot encoding. This is because it is a quantitative feature and has gradations."
      ]
    },
    {
      "cell_type": "code",
      "execution_count": 306,
      "metadata": {
        "colab": {
          "base_uri": "https://localhost:8080/",
          "height": 255
        },
        "id": "kIDxBZjkfKpm",
        "outputId": "145088d7-a9e7-4fd7-9633-95e23c856c89"
      },
      "outputs": [
        {
          "data": {
            "text/html": [
              "<div>\n",
              "<style scoped>\n",
              "    .dataframe tbody tr th:only-of-type {\n",
              "        vertical-align: middle;\n",
              "    }\n",
              "\n",
              "    .dataframe tbody tr th {\n",
              "        vertical-align: top;\n",
              "    }\n",
              "\n",
              "    .dataframe thead th {\n",
              "        text-align: right;\n",
              "    }\n",
              "</style>\n",
              "<table border=\"1\" class=\"dataframe\">\n",
              "  <thead>\n",
              "    <tr style=\"text-align: right;\">\n",
              "      <th></th>\n",
              "      <th>ID</th>\n",
              "      <th>LIMIT_BAL</th>\n",
              "      <th>AGE</th>\n",
              "      <th>PAY_0</th>\n",
              "      <th>PAY_2</th>\n",
              "      <th>PAY_3</th>\n",
              "      <th>PAY_4</th>\n",
              "      <th>PAY_5</th>\n",
              "      <th>PAY_6</th>\n",
              "      <th>BILL_AMT1</th>\n",
              "      <th>...</th>\n",
              "      <th>EDUCATION_1</th>\n",
              "      <th>EDUCATION_2</th>\n",
              "      <th>EDUCATION_3</th>\n",
              "      <th>EDUCATION_4</th>\n",
              "      <th>EDUCATION_5</th>\n",
              "      <th>EDUCATION_6</th>\n",
              "      <th>MARRIAGE_0</th>\n",
              "      <th>MARRIAGE_1</th>\n",
              "      <th>MARRIAGE_2</th>\n",
              "      <th>MARRIAGE_3</th>\n",
              "    </tr>\n",
              "  </thead>\n",
              "  <tbody>\n",
              "    <tr>\n",
              "      <th>0</th>\n",
              "      <td>1</td>\n",
              "      <td>20000.0</td>\n",
              "      <td>24</td>\n",
              "      <td>2</td>\n",
              "      <td>2</td>\n",
              "      <td>-1</td>\n",
              "      <td>-1</td>\n",
              "      <td>-2</td>\n",
              "      <td>-2</td>\n",
              "      <td>3913.0</td>\n",
              "      <td>...</td>\n",
              "      <td>False</td>\n",
              "      <td>True</td>\n",
              "      <td>False</td>\n",
              "      <td>False</td>\n",
              "      <td>False</td>\n",
              "      <td>False</td>\n",
              "      <td>False</td>\n",
              "      <td>True</td>\n",
              "      <td>False</td>\n",
              "      <td>False</td>\n",
              "    </tr>\n",
              "    <tr>\n",
              "      <th>1</th>\n",
              "      <td>2</td>\n",
              "      <td>120000.0</td>\n",
              "      <td>26</td>\n",
              "      <td>-1</td>\n",
              "      <td>2</td>\n",
              "      <td>0</td>\n",
              "      <td>0</td>\n",
              "      <td>0</td>\n",
              "      <td>2</td>\n",
              "      <td>2682.0</td>\n",
              "      <td>...</td>\n",
              "      <td>False</td>\n",
              "      <td>True</td>\n",
              "      <td>False</td>\n",
              "      <td>False</td>\n",
              "      <td>False</td>\n",
              "      <td>False</td>\n",
              "      <td>False</td>\n",
              "      <td>False</td>\n",
              "      <td>True</td>\n",
              "      <td>False</td>\n",
              "    </tr>\n",
              "    <tr>\n",
              "      <th>2</th>\n",
              "      <td>3</td>\n",
              "      <td>90000.0</td>\n",
              "      <td>34</td>\n",
              "      <td>0</td>\n",
              "      <td>0</td>\n",
              "      <td>0</td>\n",
              "      <td>0</td>\n",
              "      <td>0</td>\n",
              "      <td>0</td>\n",
              "      <td>29239.0</td>\n",
              "      <td>...</td>\n",
              "      <td>False</td>\n",
              "      <td>True</td>\n",
              "      <td>False</td>\n",
              "      <td>False</td>\n",
              "      <td>False</td>\n",
              "      <td>False</td>\n",
              "      <td>False</td>\n",
              "      <td>False</td>\n",
              "      <td>True</td>\n",
              "      <td>False</td>\n",
              "    </tr>\n",
              "    <tr>\n",
              "      <th>3</th>\n",
              "      <td>4</td>\n",
              "      <td>50000.0</td>\n",
              "      <td>37</td>\n",
              "      <td>0</td>\n",
              "      <td>0</td>\n",
              "      <td>0</td>\n",
              "      <td>0</td>\n",
              "      <td>0</td>\n",
              "      <td>0</td>\n",
              "      <td>46990.0</td>\n",
              "      <td>...</td>\n",
              "      <td>False</td>\n",
              "      <td>True</td>\n",
              "      <td>False</td>\n",
              "      <td>False</td>\n",
              "      <td>False</td>\n",
              "      <td>False</td>\n",
              "      <td>False</td>\n",
              "      <td>True</td>\n",
              "      <td>False</td>\n",
              "      <td>False</td>\n",
              "    </tr>\n",
              "    <tr>\n",
              "      <th>4</th>\n",
              "      <td>5</td>\n",
              "      <td>50000.0</td>\n",
              "      <td>57</td>\n",
              "      <td>-1</td>\n",
              "      <td>0</td>\n",
              "      <td>-1</td>\n",
              "      <td>0</td>\n",
              "      <td>0</td>\n",
              "      <td>0</td>\n",
              "      <td>8617.0</td>\n",
              "      <td>...</td>\n",
              "      <td>False</td>\n",
              "      <td>True</td>\n",
              "      <td>False</td>\n",
              "      <td>False</td>\n",
              "      <td>False</td>\n",
              "      <td>False</td>\n",
              "      <td>False</td>\n",
              "      <td>True</td>\n",
              "      <td>False</td>\n",
              "      <td>False</td>\n",
              "    </tr>\n",
              "  </tbody>\n",
              "</table>\n",
              "<p>5 rows × 35 columns</p>\n",
              "</div>"
            ],
            "text/plain": [
              "   ID  LIMIT_BAL  AGE  PAY_0  PAY_2  PAY_3  PAY_4  PAY_5  PAY_6  BILL_AMT1  \\\n",
              "0   1    20000.0   24      2      2     -1     -1     -2     -2     3913.0   \n",
              "1   2   120000.0   26     -1      2      0      0      0      2     2682.0   \n",
              "2   3    90000.0   34      0      0      0      0      0      0    29239.0   \n",
              "3   4    50000.0   37      0      0      0      0      0      0    46990.0   \n",
              "4   5    50000.0   57     -1      0     -1      0      0      0     8617.0   \n",
              "\n",
              "   ...  EDUCATION_1  EDUCATION_2  EDUCATION_3  EDUCATION_4  EDUCATION_5  \\\n",
              "0  ...        False         True        False        False        False   \n",
              "1  ...        False         True        False        False        False   \n",
              "2  ...        False         True        False        False        False   \n",
              "3  ...        False         True        False        False        False   \n",
              "4  ...        False         True        False        False        False   \n",
              "\n",
              "   EDUCATION_6  MARRIAGE_0  MARRIAGE_1  MARRIAGE_2  MARRIAGE_3  \n",
              "0        False       False        True       False       False  \n",
              "1        False       False       False        True       False  \n",
              "2        False       False       False        True       False  \n",
              "3        False       False        True       False       False  \n",
              "4        False       False        True       False       False  \n",
              "\n",
              "[5 rows x 35 columns]"
            ]
          },
          "execution_count": 306,
          "metadata": {},
          "output_type": "execute_result"
        }
      ],
      "source": [
        "#Performing one-hot encoding on sex, education and marriage columns\n",
        "dataset = pd.get_dummies(dataset, columns=['SEX', 'EDUCATION', 'MARRIAGE'])\n",
        "dataset.head()"
      ]
    },
    {
      "cell_type": "markdown",
      "metadata": {},
      "source": [
        "The 'ID' column is dropped as it is not a feature"
      ]
    },
    {
      "cell_type": "code",
      "execution_count": 307,
      "metadata": {
        "id": "mhtJWMJXnVjN"
      },
      "outputs": [],
      "source": [
        "dataset = dataset.drop(['ID'], axis=1)"
      ]
    },
    {
      "cell_type": "markdown",
      "metadata": {
        "id": "OpTAh0x1mbuK"
      },
      "source": [
        "# Imputation"
      ]
    },
    {
      "cell_type": "markdown",
      "metadata": {
        "id": "IW2HsvV_nM1e"
      },
      "source": [
        "## Simple Imputation\n",
        "We remove 10% of values in 'AGE', 'BILL_AMT1' and 'LIMIT_BAL' columns and impute with median. Imputaion with median is preferrable to mean because if the dataset is skewed, the mean might not be a good measure of central tendency."
      ]
    },
    {
      "cell_type": "code",
      "execution_count": 308,
      "metadata": {
        "colab": {
          "base_uri": "https://localhost:8080/",
          "height": 1000
        },
        "id": "OSwJmbOyJcUt",
        "outputId": "7fd63ba8-68e5-4210-9639-f26f4fe1c0dd"
      },
      "outputs": [
        {
          "name": "stdout",
          "output_type": "stream",
          "text": [
            "3000 3000 3000\n"
          ]
        },
        {
          "data": {
            "text/html": [
              "<div>\n",
              "<style scoped>\n",
              "    .dataframe tbody tr th:only-of-type {\n",
              "        vertical-align: middle;\n",
              "    }\n",
              "\n",
              "    .dataframe tbody tr th {\n",
              "        vertical-align: top;\n",
              "    }\n",
              "\n",
              "    .dataframe thead th {\n",
              "        text-align: right;\n",
              "    }\n",
              "</style>\n",
              "<table border=\"1\" class=\"dataframe\">\n",
              "  <thead>\n",
              "    <tr style=\"text-align: right;\">\n",
              "      <th></th>\n",
              "      <th>LIMIT_BAL</th>\n",
              "      <th>AGE</th>\n",
              "      <th>PAY_0</th>\n",
              "      <th>PAY_2</th>\n",
              "      <th>PAY_3</th>\n",
              "      <th>PAY_4</th>\n",
              "      <th>PAY_5</th>\n",
              "      <th>PAY_6</th>\n",
              "      <th>BILL_AMT1</th>\n",
              "      <th>BILL_AMT2</th>\n",
              "      <th>...</th>\n",
              "      <th>EDUCATION_1</th>\n",
              "      <th>EDUCATION_2</th>\n",
              "      <th>EDUCATION_3</th>\n",
              "      <th>EDUCATION_4</th>\n",
              "      <th>EDUCATION_5</th>\n",
              "      <th>EDUCATION_6</th>\n",
              "      <th>MARRIAGE_0</th>\n",
              "      <th>MARRIAGE_1</th>\n",
              "      <th>MARRIAGE_2</th>\n",
              "      <th>MARRIAGE_3</th>\n",
              "    </tr>\n",
              "  </thead>\n",
              "  <tbody>\n",
              "    <tr>\n",
              "      <th>0</th>\n",
              "      <td>20000.0</td>\n",
              "      <td>24.0</td>\n",
              "      <td>2</td>\n",
              "      <td>2</td>\n",
              "      <td>-1</td>\n",
              "      <td>-1</td>\n",
              "      <td>-2</td>\n",
              "      <td>-2</td>\n",
              "      <td>3913.0</td>\n",
              "      <td>3102.0</td>\n",
              "      <td>...</td>\n",
              "      <td>False</td>\n",
              "      <td>True</td>\n",
              "      <td>False</td>\n",
              "      <td>False</td>\n",
              "      <td>False</td>\n",
              "      <td>False</td>\n",
              "      <td>False</td>\n",
              "      <td>True</td>\n",
              "      <td>False</td>\n",
              "      <td>False</td>\n",
              "    </tr>\n",
              "    <tr>\n",
              "      <th>1</th>\n",
              "      <td>120000.0</td>\n",
              "      <td>26.0</td>\n",
              "      <td>-1</td>\n",
              "      <td>2</td>\n",
              "      <td>0</td>\n",
              "      <td>0</td>\n",
              "      <td>0</td>\n",
              "      <td>2</td>\n",
              "      <td>2682.0</td>\n",
              "      <td>1725.0</td>\n",
              "      <td>...</td>\n",
              "      <td>False</td>\n",
              "      <td>True</td>\n",
              "      <td>False</td>\n",
              "      <td>False</td>\n",
              "      <td>False</td>\n",
              "      <td>False</td>\n",
              "      <td>False</td>\n",
              "      <td>False</td>\n",
              "      <td>True</td>\n",
              "      <td>False</td>\n",
              "    </tr>\n",
              "    <tr>\n",
              "      <th>2</th>\n",
              "      <td>90000.0</td>\n",
              "      <td>34.0</td>\n",
              "      <td>0</td>\n",
              "      <td>0</td>\n",
              "      <td>0</td>\n",
              "      <td>0</td>\n",
              "      <td>0</td>\n",
              "      <td>0</td>\n",
              "      <td>29239.0</td>\n",
              "      <td>14027.0</td>\n",
              "      <td>...</td>\n",
              "      <td>False</td>\n",
              "      <td>True</td>\n",
              "      <td>False</td>\n",
              "      <td>False</td>\n",
              "      <td>False</td>\n",
              "      <td>False</td>\n",
              "      <td>False</td>\n",
              "      <td>False</td>\n",
              "      <td>True</td>\n",
              "      <td>False</td>\n",
              "    </tr>\n",
              "    <tr>\n",
              "      <th>3</th>\n",
              "      <td>50000.0</td>\n",
              "      <td>37.0</td>\n",
              "      <td>0</td>\n",
              "      <td>0</td>\n",
              "      <td>0</td>\n",
              "      <td>0</td>\n",
              "      <td>0</td>\n",
              "      <td>0</td>\n",
              "      <td>46990.0</td>\n",
              "      <td>48233.0</td>\n",
              "      <td>...</td>\n",
              "      <td>False</td>\n",
              "      <td>True</td>\n",
              "      <td>False</td>\n",
              "      <td>False</td>\n",
              "      <td>False</td>\n",
              "      <td>False</td>\n",
              "      <td>False</td>\n",
              "      <td>True</td>\n",
              "      <td>False</td>\n",
              "      <td>False</td>\n",
              "    </tr>\n",
              "    <tr>\n",
              "      <th>4</th>\n",
              "      <td>50000.0</td>\n",
              "      <td>57.0</td>\n",
              "      <td>-1</td>\n",
              "      <td>0</td>\n",
              "      <td>-1</td>\n",
              "      <td>0</td>\n",
              "      <td>0</td>\n",
              "      <td>0</td>\n",
              "      <td>8617.0</td>\n",
              "      <td>5670.0</td>\n",
              "      <td>...</td>\n",
              "      <td>False</td>\n",
              "      <td>True</td>\n",
              "      <td>False</td>\n",
              "      <td>False</td>\n",
              "      <td>False</td>\n",
              "      <td>False</td>\n",
              "      <td>False</td>\n",
              "      <td>True</td>\n",
              "      <td>False</td>\n",
              "      <td>False</td>\n",
              "    </tr>\n",
              "  </tbody>\n",
              "</table>\n",
              "<p>5 rows × 34 columns</p>\n",
              "</div>"
            ],
            "text/plain": [
              "   LIMIT_BAL   AGE  PAY_0  PAY_2  PAY_3  PAY_4  PAY_5  PAY_6  BILL_AMT1  \\\n",
              "0    20000.0  24.0      2      2     -1     -1     -2     -2     3913.0   \n",
              "1   120000.0  26.0     -1      2      0      0      0      2     2682.0   \n",
              "2    90000.0  34.0      0      0      0      0      0      0    29239.0   \n",
              "3    50000.0  37.0      0      0      0      0      0      0    46990.0   \n",
              "4    50000.0  57.0     -1      0     -1      0      0      0     8617.0   \n",
              "\n",
              "   BILL_AMT2  ...  EDUCATION_1  EDUCATION_2  EDUCATION_3  EDUCATION_4  \\\n",
              "0     3102.0  ...        False         True        False        False   \n",
              "1     1725.0  ...        False         True        False        False   \n",
              "2    14027.0  ...        False         True        False        False   \n",
              "3    48233.0  ...        False         True        False        False   \n",
              "4     5670.0  ...        False         True        False        False   \n",
              "\n",
              "   EDUCATION_5  EDUCATION_6  MARRIAGE_0  MARRIAGE_1  MARRIAGE_2  MARRIAGE_3  \n",
              "0        False        False       False        True       False       False  \n",
              "1        False        False       False       False        True       False  \n",
              "2        False        False       False       False        True       False  \n",
              "3        False        False       False        True       False       False  \n",
              "4        False        False       False        True       False       False  \n",
              "\n",
              "[5 rows x 34 columns]"
            ]
          },
          "execution_count": 308,
          "metadata": {},
          "output_type": "execute_result"
        }
      ],
      "source": [
        "#For generating random indices\n",
        "rng = default_rng()\n",
        "indices = np.arange(0, len(dataset))\n",
        "\n",
        "dataset_A = dataset.copy()\n",
        "dataset_A.loc[rng.choice(indices, len(dataset)//10, replace=False), 'AGE'] = np.nan\n",
        "dataset_A.loc[rng.choice(indices, len(dataset)//10, replace=False), 'BILL_AMT1'] = np.nan\n",
        "dataset_A.loc[rng.choice(indices, len(dataset)//10, replace=False), 'LIMIT_BAL'] = np.nan\n",
        "print(dataset_A['AGE'].isnull().sum(), dataset_A['BILL_AMT1'].isnull().sum(), dataset_A['LIMIT_BAL'].isnull().sum())\n",
        "dataset_A.head()"
      ]
    },
    {
      "cell_type": "code",
      "execution_count": 309,
      "metadata": {
        "id": "p5MxvvU0Wcev"
      },
      "outputs": [
        {
          "name": "stdout",
          "output_type": "stream",
          "text": [
            "0 0 0\n"
          ]
        }
      ],
      "source": [
        "#Imputation with median\n",
        "dataset_A = dataset_A.fillna(dataset_A.median())\n",
        "print(dataset_A['AGE'].isnull().sum(), dataset_A['BILL_AMT1'].isnull().sum(), dataset_A['LIMIT_BAL'].isnull().sum())"
      ]
    },
    {
      "cell_type": "markdown",
      "metadata": {
        "id": "IPz1CEEUnmxg"
      },
      "source": [
        "## Linear Regression\n",
        "Here, we remove values from the 'LIMIT_BAL' column and use linear regression for imputation. The underlying assumption of MAR (Missing At Random) is that the probability that a value is missing is independent of all the features in the dataset. We use normalization using standard scaler since different columns have vastly different orders of magnitude."
      ]
    },
    {
      "cell_type": "code",
      "execution_count": 310,
      "metadata": {
        "id": "P-EaYxo3nqW4"
      },
      "outputs": [],
      "source": [
        "missing_indices_BC = rng.choice(indices, len(dataset)//10, replace=False)\n",
        "dataset_BC = dataset.copy()\n",
        "dataset_BC.loc[missing_indices_BC, 'LIMIT_BAL'] = np.nan"
      ]
    },
    {
      "cell_type": "code",
      "execution_count": 311,
      "metadata": {
        "colab": {
          "base_uri": "https://localhost:8080/"
        },
        "id": "QroSYt6_XFvn",
        "outputId": "07029427-e3c1-42b2-f527-dca3d0ffa7a9"
      },
      "outputs": [
        {
          "name": "stderr",
          "output_type": "stream",
          "text": [
            "c:\\Users\\Sridhar Ramachandran\\AppData\\Local\\Programs\\Python\\Python312\\Lib\\site-packages\\sklearn\\utils\\validation.py:2742: UserWarning: X has feature names, but LinearRegression was fitted without feature names\n",
            "  warnings.warn(\n"
          ]
        }
      ],
      "source": [
        "x_train_imp_BC = dataset_BC.dropna().drop(['LIMIT_BAL', 'default.payment.next.month'], axis=1)\n",
        "#Normalization\n",
        "scaler = StandardScaler()\n",
        "x_train_imp_BC = scaler.fit_transform(x_train_imp_BC)\n",
        "\n",
        "#Linear regression for imputation\n",
        "y_train_imp_BC = dataset_BC.dropna()['LIMIT_BAL']\n",
        "x_pred_imp_BC = (dataset_BC[dataset_BC['LIMIT_BAL'].isnull()].drop(['LIMIT_BAL', 'default.payment.next.month'], axis=1)-scaler.mean_)/scaler.scale_\n",
        "\n",
        "linear_imp_model = LinearRegression()\n",
        "linear_imp_model.fit(x_train_imp_BC, y_train_imp_BC)\n",
        "\n",
        "\n",
        "dataset_B = dataset_BC.copy()\n",
        "dataset_B.loc[missing_indices_BC, 'LIMIT_BAL'] = linear_imp_model.predict(x_pred_imp_BC)"
      ]
    },
    {
      "cell_type": "markdown",
      "metadata": {
        "id": "YiJI2Do5qJC0"
      },
      "source": [
        "## Non linear imputation\n",
        "Here, we use KNN model for imputation. We use the same dataset that was used for linear regression imputation"
      ]
    },
    {
      "cell_type": "code",
      "execution_count": 312,
      "metadata": {
        "colab": {
          "base_uri": "https://localhost:8080/"
        },
        "id": "-Ju4-iaIqdJW",
        "outputId": "10864321-36f2-4cf3-97d0-ee0eb48a3f36"
      },
      "outputs": [
        {
          "name": "stderr",
          "output_type": "stream",
          "text": [
            "c:\\Users\\Sridhar Ramachandran\\AppData\\Local\\Programs\\Python\\Python312\\Lib\\site-packages\\sklearn\\utils\\validation.py:2742: UserWarning: X has feature names, but KNeighborsRegressor was fitted without feature names\n",
            "  warnings.warn(\n"
          ]
        }
      ],
      "source": [
        "knn_imputation_model = KNeighborsRegressor(n_neighbors=5)\n",
        "knn_imputation_model.fit(x_train_imp_BC, y_train_imp_BC)\n",
        "\n",
        "dataset_C = dataset_BC.copy()\n",
        "dataset_C.loc[missing_indices_BC, 'LIMIT_BAL'] = knn_imputation_model.predict(x_pred_imp_BC)\n"
      ]
    },
    {
      "cell_type": "markdown",
      "metadata": {
        "id": "5TQET_-KqO63"
      },
      "source": [
        "## Listwise Deletion\n",
        "In this approach, rows containing missing values are dropped. A drawback is that a lot of data is lost with this approach."
      ]
    },
    {
      "cell_type": "code",
      "execution_count": 313,
      "metadata": {
        "id": "ZpW3WLznqWDi"
      },
      "outputs": [],
      "source": [
        "dataset_D = dataset.copy()\n",
        "dataset_D.loc[rng.choice(indices, len(dataset)//10, replace=False), 'AGE'] = np.nan\n",
        "dataset_D.loc[rng.choice(indices, len(dataset)//10, replace=False), 'BILL_AMT1'] = np.nan\n",
        "dataset_D.loc[rng.choice(indices, len(dataset)//10, replace=False), 'LIMIT_BAL'] = np.nan\n",
        "dataset_D = dataset_D.dropna()"
      ]
    },
    {
      "cell_type": "code",
      "execution_count": 314,
      "metadata": {},
      "outputs": [
        {
          "name": "stdout",
          "output_type": "stream",
          "text": [
            "0.27213333333333334\n"
          ]
        }
      ],
      "source": [
        "#Fraction of rows with missing values\n",
        "print((len(dataset)-len(dataset_D))/len(dataset))"
      ]
    },
    {
      "cell_type": "markdown",
      "metadata": {},
      "source": [
        "The size of the dataset is reduced by around 27%"
      ]
    },
    {
      "cell_type": "markdown",
      "metadata": {
        "id": "WB47yWS58Q-S"
      },
      "source": [
        "# Model training"
      ]
    },
    {
      "cell_type": "code",
      "execution_count": 315,
      "metadata": {
        "id": "BljG2glvISxn"
      },
      "outputs": [],
      "source": [
        "x_A = dataset_A.drop('default.payment.next.month', axis=1)\n",
        "y_A = dataset_A['default.payment.next.month']\n",
        "\n",
        "x_B = dataset_B.drop('default.payment.next.month', axis=1)\n",
        "y_B = dataset_B['default.payment.next.month']\n",
        "\n",
        "x_C = dataset_C.drop('default.payment.next.month', axis=1)  \n",
        "y_C = dataset_C['default.payment.next.month']\n",
        "\n",
        "x_D = dataset_D.drop('default.payment.next.month', axis=1)\n",
        "y_D = dataset_D['default.payment.next.month']\n",
        "\n",
        "x_A = scaler.fit_transform(x_A)\n",
        "x_B = scaler.fit_transform(x_B)\n",
        "x_C = scaler.fit_transform(x_C)\n",
        "x_D = scaler.fit_transform(x_D)\n",
        "\n",
        "x_train_A, x_test_A, y_train_A, y_test_A = train_test_split(x_A, y_A, test_size=0.2, random_state=42, stratify=y_A)\n",
        "x_train_B, x_test_B, y_train_B, y_test_B = train_test_split(x_B, y_B, test_size=0.2, random_state=42, stratify=y_B)\n",
        "x_train_C, x_test_C, y_train_C, y_test_C = train_test_split(x_C, y_C, test_size=0.2, random_state=42, stratify=y_C)\n",
        "x_train_D, x_test_D, y_train_D, y_test_D = train_test_split(x_D, y_D, test_size=0.2, random_state=42, stratify=y_D)"
      ]
    },
    {
      "cell_type": "markdown",
      "metadata": {
        "id": "o0JVdF1myb_f"
      },
      "source": [
        "# Performance evaluation"
      ]
    },
    {
      "cell_type": "code",
      "execution_count": 316,
      "metadata": {
        "id": "1OTXCDcLx1tV"
      },
      "outputs": [
        {
          "name": "stdout",
          "output_type": "stream",
          "text": [
            "              precision    recall  f1-score   support\n",
            "\n",
            "           0      0.819     0.969     0.888      4673\n",
            "           1      0.692     0.244     0.361      1327\n",
            "\n",
            "    accuracy                          0.809      6000\n",
            "   macro avg      0.755     0.607     0.624      6000\n",
            "weighted avg      0.791     0.809     0.771      6000\n",
            "\n"
          ]
        }
      ],
      "source": [
        "model_A = LogisticRegression()\n",
        "model_A.fit(x_train_A, y_train_A)\n",
        "y_pred_A = model_A.predict(x_test_A)\n",
        "print(classification_report(y_test_A, y_pred_A, digits=3))\n",
        "#Get f1-score for both 0 and 1\n",
        "f1_score_A = f1_score(y_test_A, y_pred_A, average=None)"
      ]
    },
    {
      "cell_type": "code",
      "execution_count": 317,
      "metadata": {},
      "outputs": [
        {
          "name": "stdout",
          "output_type": "stream",
          "text": [
            "              precision    recall  f1-score   support\n",
            "\n",
            "           0      0.819     0.969     0.888      4673\n",
            "           1      0.692     0.244     0.361      1327\n",
            "\n",
            "    accuracy                          0.809      6000\n",
            "   macro avg      0.755     0.607     0.624      6000\n",
            "weighted avg      0.791     0.809     0.771      6000\n",
            "\n"
          ]
        }
      ],
      "source": [
        "model_B = LogisticRegression()\n",
        "model_B.fit(x_train_B, y_train_B)\n",
        "y_pred_B = model_B.predict(x_test_B)\n",
        "print(classification_report(y_test_B, y_pred_B, digits=3))\n",
        "f1_score_B = f1_score(y_test_B, y_pred_B, average=None)"
      ]
    },
    {
      "cell_type": "code",
      "execution_count": 318,
      "metadata": {},
      "outputs": [
        {
          "name": "stdout",
          "output_type": "stream",
          "text": [
            "              precision    recall  f1-score   support\n",
            "\n",
            "           0      0.819     0.969     0.888      4673\n",
            "           1      0.694     0.246     0.363      1327\n",
            "\n",
            "    accuracy                          0.809      6000\n",
            "   macro avg      0.756     0.607     0.625      6000\n",
            "weighted avg      0.791     0.809     0.772      6000\n",
            "\n"
          ]
        }
      ],
      "source": [
        "model_C = LogisticRegression()\n",
        "model_C.fit(x_train_C, y_train_C)\n",
        "y_pred_C = model_C.predict(x_test_C)\n",
        "print(classification_report(y_test_C, y_pred_C, digits=3))\n",
        "f1_score_C = f1_score(y_test_C, y_pred_C, average=None)"
      ]
    },
    {
      "cell_type": "code",
      "execution_count": 319,
      "metadata": {},
      "outputs": [
        {
          "name": "stdout",
          "output_type": "stream",
          "text": [
            "              precision    recall  f1-score   support\n",
            "\n",
            "           0      0.821     0.976     0.892      3397\n",
            "           1      0.752     0.255     0.381       971\n",
            "\n",
            "    accuracy                          0.816      4368\n",
            "   macro avg      0.786     0.616     0.636      4368\n",
            "weighted avg      0.806     0.816     0.778      4368\n",
            "\n"
          ]
        }
      ],
      "source": [
        "model_D = LogisticRegression()\n",
        "model_D.fit(x_train_D, y_train_D)\n",
        "y_pred_D = model_D.predict(x_test_D)\n",
        "print(classification_report(y_test_D, y_pred_D, digits=3))\n",
        "f1_score_D = f1_score(y_test_D, y_pred_D, average=None)"
      ]
    },
    {
      "cell_type": "markdown",
      "metadata": {},
      "source": [
        "# Summary table"
      ]
    },
    {
      "cell_type": "code",
      "execution_count": 320,
      "metadata": {},
      "outputs": [
        {
          "data": {
            "text/html": [
              "<div>\n",
              "<style scoped>\n",
              "    .dataframe tbody tr th:only-of-type {\n",
              "        vertical-align: middle;\n",
              "    }\n",
              "\n",
              "    .dataframe tbody tr th {\n",
              "        vertical-align: top;\n",
              "    }\n",
              "\n",
              "    .dataframe thead th {\n",
              "        text-align: right;\n",
              "    }\n",
              "</style>\n",
              "<table border=\"1\" class=\"dataframe\">\n",
              "  <thead>\n",
              "    <tr style=\"text-align: right;\">\n",
              "      <th></th>\n",
              "      <th>Imputation Method</th>\n",
              "      <th>F1 Score (Class 0)</th>\n",
              "      <th>F1 Score (Class 1)</th>\n",
              "    </tr>\n",
              "  </thead>\n",
              "  <tbody>\n",
              "    <tr>\n",
              "      <th>0</th>\n",
              "      <td>Median Imputation</td>\n",
              "      <td>0.887604</td>\n",
              "      <td>0.361003</td>\n",
              "    </tr>\n",
              "    <tr>\n",
              "      <th>1</th>\n",
              "      <td>Linear Regression Imputation</td>\n",
              "      <td>0.887604</td>\n",
              "      <td>0.361003</td>\n",
              "    </tr>\n",
              "    <tr>\n",
              "      <th>2</th>\n",
              "      <td>KNN Imputation</td>\n",
              "      <td>0.887778</td>\n",
              "      <td>0.362827</td>\n",
              "    </tr>\n",
              "    <tr>\n",
              "      <th>3</th>\n",
              "      <td>Listwise Deletion</td>\n",
              "      <td>0.891728</td>\n",
              "      <td>0.381245</td>\n",
              "    </tr>\n",
              "  </tbody>\n",
              "</table>\n",
              "</div>"
            ],
            "text/plain": [
              "              Imputation Method  F1 Score (Class 0)  F1 Score (Class 1)\n",
              "0             Median Imputation            0.887604            0.361003\n",
              "1  Linear Regression Imputation            0.887604            0.361003\n",
              "2                KNN Imputation            0.887778            0.362827\n",
              "3             Listwise Deletion            0.891728            0.381245"
            ]
          },
          "execution_count": 320,
          "metadata": {},
          "output_type": "execute_result"
        }
      ],
      "source": [
        "summary_table = pd.DataFrame({\n",
        "    'Imputation Method': ['Median Imputation', 'Linear Regression Imputation', 'KNN Imputation', 'Listwise Deletion'],\n",
        "    'F1 Score (Class 0)': [f1_score_A[0], f1_score_B[0], f1_score_C[0], f1_score_D[0]],\n",
        "    'F1 Score (Class 1)': [f1_score_A[1], f1_score_B[1], f1_score_C[1], f1_score_D[1]]\n",
        "})\n",
        "summary_table"
      ]
    },
    {
      "cell_type": "markdown",
      "metadata": {},
      "source": [
        "# Efficacy Discussion\n",
        "We observe that listwise deletion performs slightly better than imputation methods. A disadvantage of listwise deletion is that we lose data when we remove rows. This is a problem if the missing values are not random (because in this case, the model would perform poorly on features that correlate with missing datapoints). The advantage over impuatation methods is that we do not use any synthetic data. This is the trade-off when using listwise deletion.\n",
        "\n",
        "KNN performed slightly better than linear regression, but the difference is very less. This suggests that the relation between imputed feature and predictors is almost linear. \n",
        "\n",
        "Listwise deletion is the optimal strategy for this datset based on the performance on both classes. The reason why this approach works well here is that the missing values are random and do not correlate with any feature. Therefore, the reduced dataset is a good representation of the original one. However, if the missing values are not random or if too many rows have missing values, imputation strategies are preferrable."
      ]
    }
  ],
  "metadata": {
    "colab": {
      "provenance": [],
      "toc_visible": true
    },
    "kernelspec": {
      "display_name": "Python 3",
      "name": "python3"
    },
    "language_info": {
      "codemirror_mode": {
        "name": "ipython",
        "version": 3
      },
      "file_extension": ".py",
      "mimetype": "text/x-python",
      "name": "python",
      "nbconvert_exporter": "python",
      "pygments_lexer": "ipython3",
      "version": "3.12.2"
    }
  },
  "nbformat": 4,
  "nbformat_minor": 0
}
